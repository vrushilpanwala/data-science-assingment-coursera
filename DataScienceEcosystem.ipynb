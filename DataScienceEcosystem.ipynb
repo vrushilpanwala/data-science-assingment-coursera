{
 "cells": [
  {
   "cell_type": "markdown",
   "id": "d3a259b8-f091-4f9f-a2a9-5b3c7850d0f9",
   "metadata": {},
   "source": [
    "Data Science Ecosystem and Tools"
   ]
  },
  {
   "attachments": {},
   "cell_type": "markdown",
   "id": "94af0076-45c7-4fd6-acb6-51a0fcfe3771",
   "metadata": {},
   "source": [
    "In this notebook, Data Science Tools and Ecosystem are summarized.\n",
    "\n",
    "some of the key takeaways from the course\n",
    "-> Some of the popular languages that Data Scientists \n",
    "-> Some of the commonly used libraries used by Data Scientists\n",
    "-> Data Science Tools\n",
    "-> JupyterLab\n",
    "-> Python, R Coding\n",
    "-> Git and GitHub"
   ]
  },
  {
   "cell_type": "markdown",
   "id": "25a0b03f-b6ad-486e-8a91-98f1f4198d9a",
   "metadata": {},
   "source": [
    "Some of the popular languages that Data Scientists use are:\n",
    "1. Python\n",
    "2. R\n",
    "3. Scala\n",
    "4. SQL\n",
    "5. Julia\n",
    "6. Java\n",
    "7. C++"
   ]
  },
  {
   "cell_type": "markdown",
   "id": "7a94282b-aaba-4512-8f2a-7fe84b6758cf",
   "metadata": {},
   "source": [
    "Some of the commonly used libraries used by Data Scientists include:\n",
    "\n",
    "1. Pandas\n",
    "2. NumPy\n",
    "3. Matplotlib\n",
    "4. Seaborn\n",
    "5. ggplot2\n",
    "6. dplyr\n",
    "7. ploty\n",
    "8. stringr\n",
    "9. PL/R\n",
    "10. PL/Python\n",
    "11. Apache Spark\n",
    "12. Hadoop\n",
    "13. TensorFlow\n",
    "14. PyTorch\n",
    "15. NLTK"
   ]
  },
  {
   "cell_type": "markdown",
   "id": "59515ccd-917b-4ef6-b524-b2a9ac0ddff0",
   "metadata": {},
   "source": [
    "Data Science Tools\n",
    "1. Jupyter Notebook/JupyterLab\n",
    "2. Google Colab\n",
    "3. RStudio\n",
    "4. IBM Watson Studio"
   ]
  },
  {
   "cell_type": "markdown",
   "id": "5b8444bf-5754-45e0-b89c-b28d277e886d",
   "metadata": {},
   "source": [
    "Below are a few examples of evaluating arithmetic expressions in Python"
   ]
  },
  {
   "cell_type": "code",
   "execution_count": 1,
   "id": "ab60b8bc-21be-43cd-a788-7783bed265de",
   "metadata": {
    "scrolled": true
   },
   "outputs": [
    {
     "data": {
      "text/plain": [
       "17"
      ]
     },
     "execution_count": 1,
     "metadata": {},
     "output_type": "execute_result"
    }
   ],
   "source": [
    "(3*4)+5\n",
    "#This a simple arithmetic expression to mutiply then add integers"
   ]
  },
  {
   "cell_type": "code",
   "execution_count": 2,
   "id": "de8075e5-e518-44d6-a8c0-cf302fb3008b",
   "metadata": {},
   "outputs": [
    {
     "name": "stdout",
     "output_type": "stream",
     "text": [
      "3.3333333333333335\n"
     ]
    }
   ],
   "source": [
    "minutes = 200\n",
    "hours = minutes / 60\n",
    "print(hours)\n",
    "#This will convert 200 minutes to hours by diving by 60"
   ]
  },
  {
   "cell_type": "markdown",
   "id": "c564e315-d543-4a4f-809d-1f65798f7a61",
   "metadata": {},
   "source": [
    "Author\n",
    "Vrushil Panwala"
   ]
  }
 ],
 "metadata": {
  "kernelspec": {
   "display_name": "Python 3 (ipykernel)",
   "language": "python",
   "name": "python3"
  },
  "language_info": {
   "codemirror_mode": {
    "name": "ipython",
    "version": 3
   },
   "file_extension": ".py",
   "mimetype": "text/x-python",
   "name": "python",
   "nbconvert_exporter": "python",
   "pygments_lexer": "ipython3",
   "version": "3.11.9"
  }
 },
 "nbformat": 4,
 "nbformat_minor": 5
}
